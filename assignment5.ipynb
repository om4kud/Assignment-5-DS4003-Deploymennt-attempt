{
 "cells": [
  {
   "cell_type": "markdown",
   "metadata": {},
   "source": [
    "### Assignment #5: Basic UI\n",
    "\n",
    "DS4003 | Spring 2024\n",
    "\n",
    "Objective: Practice buidling basic UI components in Dash. \n",
    "\n",
    "Task: Build an app that contains the following components user the gapminder dataset: `gdp_pcap.csv`. [Info](https://www.gapminder.org/gdp-per-capita/)\n",
    "\n",
    "UI Components:\n",
    "A dropdown menu that allows the user to select `country`\n",
    "-   The dropdown should allow the user to select multiple countries\n",
    "-   The options should populate from the dataset (not be hard-coded)\n",
    "A slider that allows the user to select `year`\n",
    "-   The slider should allow the user to select a range of years\n",
    "-   The range should be from the minimum year in the dataset to the maximum year in the dataset\n",
    "A graph that displays the `gdpPercap` for the selected countries over the selected years\n",
    "-   The graph should display the gdpPercap for each country as a line\n",
    "-   Each country should have a unique color\n",
    "-   Graph DOES NOT need to interact with dropdown or slider\n",
    "-   The graph should have a title and axis labels in reader friendly format  \n",
    "\n",
    "Layout:  \n",
    "- Use a stylesheet\n",
    "- There should be a title at the top of the page\n",
    "- There should be a description of the data and app below the title (3-5 sentences)\n",
    "- The dropdown and slider should be side by side above the graph and take up the full width of the page\n",
    "- The graph should be below the dropdown and slider and take up the full width of the page\n",
    "\n",
    "Submission: \n",
    "- There should be only one app in your submitted work\n",
    "- Comment your code\n",
    "- Submit the html file of the notebook save as `DS4003_A4_LastName.html`\n",
    "\n",
    "\n",
    "**For help you may use the web resources and pandas documentation. No co-pilot or ChatGPT.**"
   ]
  },
  {
   "cell_type": "code",
   "execution_count": 5,
   "metadata": {},
   "outputs": [],
   "source": [
    "# Omisha Mondal om4kud\n",
    "# import libraries\n",
    "from dash import Dash, html, dcc \n",
    "import pandas as pd\n",
    "import plotly.express as px\n",
    "from dash.dependencies import Input, Output\n"
   ]
  },
  {
   "cell_type": "code",
   "execution_count": 6,
   "metadata": {},
   "outputs": [],
   "source": [
    "# Load the dataset\n",
    "data = pd.read_csv('gdp_pcap.csv')"
   ]
  },
  {
   "cell_type": "code",
   "execution_count": 7,
   "metadata": {},
   "outputs": [],
   "source": [
    "# Initialize app \n",
    "# Uses a stylesheet\n",
    "stylesheets = ['https://codepen.io/chriddyp/pen/bWLwgP.css'] # load the CSS stylesheet\n",
    "\n",
    "app = Dash(__name__, external_stylesheets=stylesheets) # initialize the app\n",
    "server = app.server\n",
    "\n",
    "# Layout\n",
    "app.layout = html.Div([\n",
    "    html.H1(\"GDP Per Capita Graphing Tool\", style={'font-weight': 'bold'}),  # Title\n",
    "    html.P(\"This interactive app displays the GDP per capita for various selected countries over the selected years. Each country is represented by a unique color. The data for this graphing tool comes from the Gapminder Dataset.\"), # Description\n",
    "\n",
    "    # Dropdown menu and slider side by side\n",
    "    html.Div([\n",
    "        # Dropdown menu for choosing countries\n",
    "        dcc.Dropdown(\n",
    "            id='country-dropdown',\n",
    "            options=[{'label': country, 'value': country} for country in data['country']],\n",
    "            multi=True,\n",
    "            value=['Afghanistan'],  # default selection, however you can change this\n",
    "            style={'width': '35%', 'display': 'inline-block'} # this allows me to manipulate the width of the dropdown\n",
    "        ),\n",
    "\n",
    "        # Add a margin between dropdown and slider so they can appear side by side\n",
    "        html.Div(\n",
    "            style={'width': '5%', 'display': 'inline-block'}\n",
    "        ),\n",
    "\n",
    "        # Slider for choosing years\n",
    "        # Documentation: https://dash.plotly.com/dash-core-components/rangeslider\n",
    "        html.Div(\n",
    "            dcc.RangeSlider(\n",
    "                id='year-slider',\n",
    "                min=int(data.columns[1]),  # minimum year is '1800' in column for year\n",
    "                max=int(data.columns[-1]),  # maximum year is '2100' in column for year\n",
    "                value=[int(data.columns[1]), int(data.columns[-1])],  # default range\n",
    "                marks={str(year): str(year) for year in range(int(data.columns[1]), int(data.columns[-1])+1, 20)}, # makes marks for the slider every 20 years\n",
    "                step=None,\n",
    "            ),\n",
    "            style={'width': '60%', 'display': 'inline-block'} # this allows me to manipulate the width of the slider\n",
    "        ),\n",
    "    ], style={'width': '100%', 'margin-bottom': '20px'}),  # this lets me use the entire width and add a margin to the bottom\n",
    "\n",
    "    # dcc.Graph(id='gdp-graph') # Graph\n",
    "    html.Div([\n",
    "        dcc.Graph(id='gdp-graph', style={'width': '100%'}) # Graph\n",
    "    ])\n",
    "\n",
    "])\n"
   ]
  },
  {
   "cell_type": "code",
   "execution_count": 8,
   "metadata": {},
   "outputs": [
    {
     "data": {
      "text/html": [
       "\n",
       "        <iframe\n",
       "            width=\"100%\"\n",
       "            height=\"650\"\n",
       "            src=\"http://127.0.0.1:8050/\"\n",
       "            frameborder=\"0\"\n",
       "            allowfullscreen\n",
       "            \n",
       "        ></iframe>\n",
       "        "
      ],
      "text/plain": [
       "<IPython.lib.display.IFrame at 0x1c439633400>"
      ]
     },
     "metadata": {},
     "output_type": "display_data"
    }
   ],
   "source": [
    "# Callback function to update the graph by interacting with dropdown and slider\n",
    "# Documentation: https://dash.plotly.com/basic-callbacks\n",
    "# https://dash.plotly.com/advanced-callbacks\n",
    "\n",
    "# Callbacks allow for user interaction. This allows me to interact with the slider and dropdown menu, and this will affect what shows up on graph.\n",
    "@app.callback( \n",
    "    Output('gdp-graph', 'figure'), # the output is the thing I want to update\n",
    "    [Input('country-dropdown', 'value'), # the dropdown and slider are what \"triggers\" the callback, thereby allowing me to change the figure\n",
    "     Input('year-slider', 'value')] # the input \n",
    ")\n",
    "\n",
    "# Documentation for the below chunk of code are:\n",
    "# melt: https://pandas.pydata.org/pandas-docs/version/0.22/generated/pandas.melt.html\n",
    "# https://plotly.com/python/px-arguments/\n",
    "# laylout: https://plotly.com/python/reference/layout/\n",
    "\n",
    "\n",
    "def interact_graph(chosen_countries, chosen_years):\n",
    "    filtered_data = data[['country'] + [str(year) for year in range(chosen_years[0], chosen_years[1]+1)]] # This allows me to filter the data to whatever I choose as the range of years\n",
    "    filtered_data = filtered_data[filtered_data['country'].isin(chosen_countries)] # Filters the data again so that we select the chosen countries from dropdown menu\n",
    "    \n",
    "    melted_data = pd.melt(filtered_data, id_vars='country', var_name='year', value_name='gdpPercap') # Melt the data so 'year' is its own separate column\n",
    "    melted_data['gdpPercap'] = pd.to_numeric(melted_data['gdpPercap'], errors='coerce')  # convert gdpPercap values to numeric \n",
    "    \n",
    "    melted_data = melted_data.groupby(['country', 'year'], as_index=False).agg({'gdpPercap': 'mean'}) #aggregates mean gdp with year\n",
    "    melted_data = melted_data.sort_values(by='year') # sort data by 'year' \n",
    "    \n",
    "    \n",
    "    fig = px.line(melted_data, x='year', y='gdpPercap', color='country', title='Average GDP Per Capita by Decade') # Creates the Line Plot\n",
    "    fig.update_layout(xaxis_title='Year', yaxis_title='Average GDP Per Capita') # lets me update the xaxis, yaxis, and title to my desired text\n",
    "    \n",
    "    return fig\n",
    "\n",
    "\n",
    "if __name__ == '__main__':\n",
    "    app.run_server(debug=True)\n",
    "    #app.run(jupyter_mode='tab', debug=True) # local host run"
   ]
  }
 ],
 "metadata": {
  "kernelspec": {
   "display_name": "ds4003",
   "language": "python",
   "name": "python3"
  },
  "language_info": {
   "codemirror_mode": {
    "name": "ipython",
    "version": 3
   },
   "file_extension": ".py",
   "mimetype": "text/x-python",
   "name": "python",
   "nbconvert_exporter": "python",
   "pygments_lexer": "ipython3",
   "version": "3.8.18"
  }
 },
 "nbformat": 4,
 "nbformat_minor": 2
}
